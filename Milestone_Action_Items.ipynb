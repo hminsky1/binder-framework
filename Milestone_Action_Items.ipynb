{
 "cells": [
  {
   "cell_type": "code",
   "execution_count": 1,
   "id": "dc3bad4b",
   "metadata": {},
   "outputs": [],
   "source": [
    "import pandas as pd\n",
    "import numpy as np\n",
    "import matplotlib as mpl\n",
    "import matplotlib.pyplot as plt\n",
    "# import seaborn as sns"
   ]
  },
  {
   "cell_type": "markdown",
   "id": "2c50433a",
   "metadata": {},
   "source": [
    "## Day 4 Action Items"
   ]
  },
  {
   "cell_type": "code",
   "execution_count": 2,
   "id": "c7688ccb",
   "metadata": {},
   "outputs": [],
   "source": [
    "df = pd.read_csv('Value_of_Energy_Cost_Savings_Program_Savings_for_Businesses_-_FY2020.csv')"
   ]
  },
  {
   "cell_type": "code",
   "execution_count": 3,
   "id": "112e32c1",
   "metadata": {},
   "outputs": [
    {
     "data": {
      "text/html": [
       "<div>\n",
       "<style scoped>\n",
       "    .dataframe tbody tr th:only-of-type {\n",
       "        vertical-align: middle;\n",
       "    }\n",
       "\n",
       "    .dataframe tbody tr th {\n",
       "        vertical-align: top;\n",
       "    }\n",
       "\n",
       "    .dataframe thead th {\n",
       "        text-align: right;\n",
       "    }\n",
       "</style>\n",
       "<table border=\"1\" class=\"dataframe\">\n",
       "  <thead>\n",
       "    <tr style=\"text-align: right;\">\n",
       "      <th></th>\n",
       "      <th>Company Name</th>\n",
       "      <th>company contact</th>\n",
       "      <th>company email</th>\n",
       "      <th>company phone</th>\n",
       "      <th>Address</th>\n",
       "      <th>City</th>\n",
       "      <th>State</th>\n",
       "      <th>Postcode</th>\n",
       "      <th>Industry</th>\n",
       "      <th>Industry descr</th>\n",
       "      <th>...</th>\n",
       "      <th>Savings from beginning receiving benefits</th>\n",
       "      <th>Borough</th>\n",
       "      <th>Latitude</th>\n",
       "      <th>Longitude</th>\n",
       "      <th>Community Board</th>\n",
       "      <th>Council District</th>\n",
       "      <th>Census Tract</th>\n",
       "      <th>BIN</th>\n",
       "      <th>BBL</th>\n",
       "      <th>NTA</th>\n",
       "    </tr>\n",
       "  </thead>\n",
       "  <tbody>\n",
       "    <tr>\n",
       "      <th>0</th>\n",
       "      <td>1 State Street</td>\n",
       "      <td>David Neiburg</td>\n",
       "      <td>eskoblo@energyspec.com</td>\n",
       "      <td>7186779077</td>\n",
       "      <td>1114 Avenue J</td>\n",
       "      <td>Brooklyn</td>\n",
       "      <td>NY</td>\n",
       "      <td>11230</td>\n",
       "      <td>Commercial</td>\n",
       "      <td>35 story building</td>\n",
       "      <td>...</td>\n",
       "      <td>349.78</td>\n",
       "      <td>Brooklyn</td>\n",
       "      <td>40.624784</td>\n",
       "      <td>-73.964920</td>\n",
       "      <td>314.0</td>\n",
       "      <td>44.0</td>\n",
       "      <td>534.0</td>\n",
       "      <td>3179818.0</td>\n",
       "      <td>3.067130e+09</td>\n",
       "      <td>Midwood</td>\n",
       "    </tr>\n",
       "    <tr>\n",
       "      <th>1</th>\n",
       "      <td>100 Church LLC</td>\n",
       "      <td>Edward A. Carroll</td>\n",
       "      <td>NaN</td>\n",
       "      <td>2125663000</td>\n",
       "      <td>100 Church Street</td>\n",
       "      <td>NY</td>\n",
       "      <td>NY</td>\n",
       "      <td>10007</td>\n",
       "      <td>Commercial</td>\n",
       "      <td>21 Floors</td>\n",
       "      <td>...</td>\n",
       "      <td>4423698.05</td>\n",
       "      <td>New York</td>\n",
       "      <td>40.712968</td>\n",
       "      <td>-74.009490</td>\n",
       "      <td>101.0</td>\n",
       "      <td>1.0</td>\n",
       "      <td>21.0</td>\n",
       "      <td>1001409.0</td>\n",
       "      <td>1.001250e+09</td>\n",
       "      <td>SoHo-TriBeCa-Civic Center-Little Italy</td>\n",
       "    </tr>\n",
       "    <tr>\n",
       "      <th>2</th>\n",
       "      <td>100 Wall Investments</td>\n",
       "      <td>Jerry Branam</td>\n",
       "      <td>NaN</td>\n",
       "      <td>2122487160</td>\n",
       "      <td>96 Wall Street</td>\n",
       "      <td>New York</td>\n",
       "      <td>NY</td>\n",
       "      <td>10005</td>\n",
       "      <td>Landlord</td>\n",
       "      <td>NaN</td>\n",
       "      <td>...</td>\n",
       "      <td>1814542.62</td>\n",
       "      <td>New York</td>\n",
       "      <td>40.705052</td>\n",
       "      <td>-74.007199</td>\n",
       "      <td>101.0</td>\n",
       "      <td>1.0</td>\n",
       "      <td>7.0</td>\n",
       "      <td>1000875.0</td>\n",
       "      <td>1.000380e+09</td>\n",
       "      <td>Battery Park City-Lower Manhattan</td>\n",
       "    </tr>\n",
       "    <tr>\n",
       "      <th>3</th>\n",
       "      <td>1-10 Bush Terminal Owner LP</td>\n",
       "      <td>Andrew Kimball</td>\n",
       "      <td>akimball@industrycity.com</td>\n",
       "      <td>3474178429</td>\n",
       "      <td>220 36th St, Suite 2A</td>\n",
       "      <td>Brooklyn</td>\n",
       "      <td>NY</td>\n",
       "      <td>11232</td>\n",
       "      <td>Landlord</td>\n",
       "      <td>Special Eligible Premises for eligible businesses</td>\n",
       "      <td>...</td>\n",
       "      <td>6755.31</td>\n",
       "      <td>Brooklyn</td>\n",
       "      <td>40.656061</td>\n",
       "      <td>-74.007334</td>\n",
       "      <td>307.0</td>\n",
       "      <td>38.0</td>\n",
       "      <td>2.0</td>\n",
       "      <td>3398687.0</td>\n",
       "      <td>3.006950e+09</td>\n",
       "      <td>Sunset Park West</td>\n",
       "    </tr>\n",
       "    <tr>\n",
       "      <th>4</th>\n",
       "      <td>120 Broadway Acquisitions JV, LLC (Ldmk)</td>\n",
       "      <td>Carl Letich</td>\n",
       "      <td>clettich@silvprop.com</td>\n",
       "      <td>2124064020</td>\n",
       "      <td>120 Broadway</td>\n",
       "      <td>New York</td>\n",
       "      <td>NY</td>\n",
       "      <td>10271</td>\n",
       "      <td>Commercial</td>\n",
       "      <td>NaN</td>\n",
       "      <td>...</td>\n",
       "      <td>3293055.08</td>\n",
       "      <td>New York</td>\n",
       "      <td>40.708546</td>\n",
       "      <td>-74.011041</td>\n",
       "      <td>101.0</td>\n",
       "      <td>1.0</td>\n",
       "      <td>7.0</td>\n",
       "      <td>1001026.0</td>\n",
       "      <td>1.000478e+09</td>\n",
       "      <td>Battery Park City-Lower Manhattan</td>\n",
       "    </tr>\n",
       "  </tbody>\n",
       "</table>\n",
       "<p>5 rows × 26 columns</p>\n",
       "</div>"
      ],
      "text/plain": [
       "                               Company Name    company contact  \\\n",
       "0                            1 State Street      David Neiburg   \n",
       "1                            100 Church LLC  Edward A. Carroll   \n",
       "2                      100 Wall Investments       Jerry Branam   \n",
       "3               1-10 Bush Terminal Owner LP     Andrew Kimball   \n",
       "4  120 Broadway Acquisitions JV, LLC (Ldmk)        Carl Letich   \n",
       "\n",
       "               company email company phone                Address      City  \\\n",
       "0     eskoblo@energyspec.com    7186779077          1114 Avenue J  Brooklyn   \n",
       "1                        NaN    2125663000      100 Church Street        NY   \n",
       "2                        NaN    2122487160         96 Wall Street  New York   \n",
       "3  akimball@industrycity.com    3474178429  220 36th St, Suite 2A  Brooklyn   \n",
       "4      clettich@silvprop.com    2124064020           120 Broadway  New York   \n",
       "\n",
       "  State  Postcode    Industry  \\\n",
       "0    NY     11230  Commercial   \n",
       "1    NY     10007  Commercial   \n",
       "2    NY     10005    Landlord   \n",
       "3    NY     11232    Landlord   \n",
       "4    NY     10271  Commercial   \n",
       "\n",
       "                                      Industry descr  ...  \\\n",
       "0                                  35 story building  ...   \n",
       "1                                          21 Floors  ...   \n",
       "2                                                NaN  ...   \n",
       "3  Special Eligible Premises for eligible businesses  ...   \n",
       "4                                                NaN  ...   \n",
       "\n",
       "  Savings from beginning receiving benefits   Borough   Latitude  Longitude  \\\n",
       "0                                    349.78  Brooklyn  40.624784 -73.964920   \n",
       "1                                4423698.05  New York  40.712968 -74.009490   \n",
       "2                                1814542.62  New York  40.705052 -74.007199   \n",
       "3                                   6755.31  Brooklyn  40.656061 -74.007334   \n",
       "4                                3293055.08  New York  40.708546 -74.011041   \n",
       "\n",
       "  Community Board  Council District  Census Tract        BIN           BBL  \\\n",
       "0           314.0              44.0         534.0  3179818.0  3.067130e+09   \n",
       "1           101.0               1.0          21.0  1001409.0  1.001250e+09   \n",
       "2           101.0               1.0           7.0  1000875.0  1.000380e+09   \n",
       "3           307.0              38.0           2.0  3398687.0  3.006950e+09   \n",
       "4           101.0               1.0           7.0  1001026.0  1.000478e+09   \n",
       "\n",
       "                                      NTA  \n",
       "0                                 Midwood  \n",
       "1  SoHo-TriBeCa-Civic Center-Little Italy  \n",
       "2       Battery Park City-Lower Manhattan  \n",
       "3                        Sunset Park West  \n",
       "4       Battery Park City-Lower Manhattan  \n",
       "\n",
       "[5 rows x 26 columns]"
      ]
     },
     "execution_count": 3,
     "metadata": {},
     "output_type": "execute_result"
    }
   ],
   "source": [
    "df.head()"
   ]
  },
  {
   "cell_type": "code",
   "execution_count": 4,
   "id": "4383b7d4",
   "metadata": {},
   "outputs": [
    {
     "data": {
      "text/plain": [
       "(450, 26)"
      ]
     },
     "execution_count": 4,
     "metadata": {},
     "output_type": "execute_result"
    }
   ],
   "source": [
    "df.shape"
   ]
  },
  {
   "cell_type": "code",
   "execution_count": 5,
   "id": "bdb6f18e",
   "metadata": {},
   "outputs": [
    {
     "name": "stdout",
     "output_type": "stream",
     "text": [
      "unique companies in dataframe: 439\n",
      "total entries in dataframe: 450\n"
     ]
    }
   ],
   "source": [
    "# 1. number of different companies\n",
    "# I'll find the unique company names, which returns a list, and then \n",
    "# I'll get the length of it\n",
    "print(r'unique companies in dataframe:', len(df['Company Name'].unique()))\n",
    "# you also might have been asking for the size of the dataframe, and then I'd do\n",
    "print(r'total entries in dataframe:', len(df))"
   ]
  },
  {
   "cell_type": "code",
   "execution_count": 6,
   "id": "d84b44fb",
   "metadata": {},
   "outputs": [
    {
     "name": "stdout",
     "output_type": "stream",
     "text": [
      "jobs created by buisnesses in Queens: 102.0\n"
     ]
    }
   ],
   "source": [
    "#2. number of jobs created for buisnesses in Queens\n",
    "# Here I'll group by Borough and then look at the sum of the jobs \n",
    "# created in each brorough. Since I only care about Queens, I can \n",
    "# look that value up from the series created by the groupby and sum \n",
    "# methods\n",
    "print(r'jobs created by buisnesses in Queens:',df.groupby('Borough')['Job created'].sum()['Queens'])"
   ]
  },
  {
   "cell_type": "code",
   "execution_count": 7,
   "id": "7e393077",
   "metadata": {},
   "outputs": [
    {
     "name": "stdout",
     "output_type": "stream",
     "text": [
      "number of unique email addresses: 421\n"
     ]
    }
   ],
   "source": [
    "# 3. number of unique email addresses\n",
    "# I'll find the unique company email addresses, which returns a list,\n",
    "# and then I'll get the length of it\n",
    "print(r'number of unique email addresses:', len(df['company email'].unique()))"
   ]
  },
  {
   "cell_type": "code",
   "execution_count": 8,
   "id": "5d334402",
   "metadata": {},
   "outputs": [
    {
     "data": {
      "text/plain": [
       "NTA\n",
       "Astoria                               3\n",
       "Baisley Park                          1\n",
       "Battery Park City-Lower Manhattan     9\n",
       "Bedford                               3\n",
       "Bensonhurst West                      1\n",
       "                                     ..\n",
       "Whitestone                            3\n",
       "Williamsburg                          1\n",
       "Windsor Terrace                       1\n",
       "Woodside                              3\n",
       "park-cemetery-etc-Brooklyn           15\n",
       "Length: 79, dtype: int64"
      ]
     },
     "execution_count": 8,
     "metadata": {},
     "output_type": "execute_result"
    }
   ],
   "source": [
    "# 4. Consider the NTAs with at least 5 buisnesses listed. Then find the \n",
    "# average total savings and total jobs created for each NTA.\n",
    "# I make want to see how many buisnesses there are in each NTA, so I \n",
    "# group by NTA and then count up all the times that NTA occurs\n",
    "df.groupby('NTA')[['NTA']].value_counts()"
   ]
  },
  {
   "cell_type": "code",
   "execution_count": 9,
   "id": "8a94b09f",
   "metadata": {},
   "outputs": [],
   "source": [
    "# I can make this into a filter that says I need at least 5 values to\n",
    "# include the NTA\n",
    "filt = (df.groupby('NTA')[['NTA']].value_counts() >= 5)"
   ]
  },
  {
   "cell_type": "code",
   "execution_count": 10,
   "id": "633a95a4",
   "metadata": {},
   "outputs": [
    {
     "data": {
      "text/html": [
       "<div>\n",
       "<style scoped>\n",
       "    .dataframe tbody tr th:only-of-type {\n",
       "        vertical-align: middle;\n",
       "    }\n",
       "\n",
       "    .dataframe tbody tr th {\n",
       "        vertical-align: top;\n",
       "    }\n",
       "\n",
       "    .dataframe thead th {\n",
       "        text-align: right;\n",
       "    }\n",
       "</style>\n",
       "<table border=\"1\" class=\"dataframe\">\n",
       "  <thead>\n",
       "    <tr style=\"text-align: right;\">\n",
       "      <th></th>\n",
       "      <th>Average Savings</th>\n",
       "      <th>Average jobs created</th>\n",
       "    </tr>\n",
       "    <tr>\n",
       "      <th>NTA</th>\n",
       "      <th></th>\n",
       "      <th></th>\n",
       "    </tr>\n",
       "  </thead>\n",
       "  <tbody>\n",
       "    <tr>\n",
       "      <th>Battery Park City-Lower Manhattan</th>\n",
       "      <td>469890.796667</td>\n",
       "      <td>NaN</td>\n",
       "    </tr>\n",
       "    <tr>\n",
       "      <th>Bushwick South</th>\n",
       "      <td>26140.455000</td>\n",
       "      <td>10.000000</td>\n",
       "    </tr>\n",
       "    <tr>\n",
       "      <th>Carroll Gardens-Columbia Street-Red Hook</th>\n",
       "      <td>24337.390000</td>\n",
       "      <td>NaN</td>\n",
       "    </tr>\n",
       "    <tr>\n",
       "      <th>College Point</th>\n",
       "      <td>17159.372857</td>\n",
       "      <td>2.000000</td>\n",
       "    </tr>\n",
       "    <tr>\n",
       "      <th>Crown Heights North</th>\n",
       "      <td>4036.298889</td>\n",
       "      <td>NaN</td>\n",
       "    </tr>\n",
       "    <tr>\n",
       "      <th>DUMBO-Vinegar Hill-Downtown Brooklyn-Boerum Hill</th>\n",
       "      <td>59950.340000</td>\n",
       "      <td>NaN</td>\n",
       "    </tr>\n",
       "    <tr>\n",
       "      <th>East New York</th>\n",
       "      <td>48433.093333</td>\n",
       "      <td>15.000000</td>\n",
       "    </tr>\n",
       "    <tr>\n",
       "      <th>East Williamsburg</th>\n",
       "      <td>13990.626364</td>\n",
       "      <td>NaN</td>\n",
       "    </tr>\n",
       "    <tr>\n",
       "      <th>Greenpoint</th>\n",
       "      <td>9753.649286</td>\n",
       "      <td>NaN</td>\n",
       "    </tr>\n",
       "    <tr>\n",
       "      <th>Hunters Point-Sunnyside-West Maspeth</th>\n",
       "      <td>23931.398933</td>\n",
       "      <td>NaN</td>\n",
       "    </tr>\n",
       "    <tr>\n",
       "      <th>Hunts Point</th>\n",
       "      <td>39246.016154</td>\n",
       "      <td>12.000000</td>\n",
       "    </tr>\n",
       "    <tr>\n",
       "      <th>Manhattanville</th>\n",
       "      <td>2760.888889</td>\n",
       "      <td>NaN</td>\n",
       "    </tr>\n",
       "    <tr>\n",
       "      <th>Maspeth</th>\n",
       "      <td>6658.283333</td>\n",
       "      <td>10.000000</td>\n",
       "    </tr>\n",
       "    <tr>\n",
       "      <th>Mott Haven-Port Morris</th>\n",
       "      <td>17843.937857</td>\n",
       "      <td>3.333333</td>\n",
       "    </tr>\n",
       "    <tr>\n",
       "      <th>Queensbridge-Ravenswood-Long Island City</th>\n",
       "      <td>61830.770625</td>\n",
       "      <td>NaN</td>\n",
       "    </tr>\n",
       "    <tr>\n",
       "      <th>SoHo-TriBeCa-Civic Center-Little Italy</th>\n",
       "      <td>37214.024000</td>\n",
       "      <td>NaN</td>\n",
       "    </tr>\n",
       "    <tr>\n",
       "      <th>Springfield Gardens South-Brookville</th>\n",
       "      <td>17757.662000</td>\n",
       "      <td>NaN</td>\n",
       "    </tr>\n",
       "    <tr>\n",
       "      <th>Steinway</th>\n",
       "      <td>11227.155714</td>\n",
       "      <td>20.000000</td>\n",
       "    </tr>\n",
       "    <tr>\n",
       "      <th>Sunset Park West</th>\n",
       "      <td>14316.976875</td>\n",
       "      <td>NaN</td>\n",
       "    </tr>\n",
       "    <tr>\n",
       "      <th>park-cemetery-etc-Brooklyn</th>\n",
       "      <td>14327.419333</td>\n",
       "      <td>NaN</td>\n",
       "    </tr>\n",
       "  </tbody>\n",
       "</table>\n",
       "</div>"
      ],
      "text/plain": [
       "                                                  Average Savings  \\\n",
       "NTA                                                                 \n",
       "Battery Park City-Lower Manhattan                   469890.796667   \n",
       "Bushwick South                                       26140.455000   \n",
       "Carroll Gardens-Columbia Street-Red Hook             24337.390000   \n",
       "College Point                                        17159.372857   \n",
       "Crown Heights North                                   4036.298889   \n",
       "DUMBO-Vinegar Hill-Downtown Brooklyn-Boerum Hill     59950.340000   \n",
       "East New York                                        48433.093333   \n",
       "East Williamsburg                                    13990.626364   \n",
       "Greenpoint                                            9753.649286   \n",
       "Hunters Point-Sunnyside-West Maspeth                 23931.398933   \n",
       "Hunts Point                                          39246.016154   \n",
       "Manhattanville                                        2760.888889   \n",
       "Maspeth                                               6658.283333   \n",
       "Mott Haven-Port Morris                               17843.937857   \n",
       "Queensbridge-Ravenswood-Long Island City             61830.770625   \n",
       "SoHo-TriBeCa-Civic Center-Little Italy               37214.024000   \n",
       "Springfield Gardens South-Brookville                 17757.662000   \n",
       "Steinway                                             11227.155714   \n",
       "Sunset Park West                                     14316.976875   \n",
       "park-cemetery-etc-Brooklyn                           14327.419333   \n",
       "\n",
       "                                                  Average jobs created  \n",
       "NTA                                                                     \n",
       "Battery Park City-Lower Manhattan                                  NaN  \n",
       "Bushwick South                                               10.000000  \n",
       "Carroll Gardens-Columbia Street-Red Hook                           NaN  \n",
       "College Point                                                 2.000000  \n",
       "Crown Heights North                                                NaN  \n",
       "DUMBO-Vinegar Hill-Downtown Brooklyn-Boerum Hill                   NaN  \n",
       "East New York                                                15.000000  \n",
       "East Williamsburg                                                  NaN  \n",
       "Greenpoint                                                         NaN  \n",
       "Hunters Point-Sunnyside-West Maspeth                               NaN  \n",
       "Hunts Point                                                  12.000000  \n",
       "Manhattanville                                                     NaN  \n",
       "Maspeth                                                      10.000000  \n",
       "Mott Haven-Port Morris                                        3.333333  \n",
       "Queensbridge-Ravenswood-Long Island City                           NaN  \n",
       "SoHo-TriBeCa-Civic Center-Little Italy                             NaN  \n",
       "Springfield Gardens South-Brookville                               NaN  \n",
       "Steinway                                                     20.000000  \n",
       "Sunset Park West                                                   NaN  \n",
       "park-cemetery-etc-Brooklyn                                         NaN  "
      ]
     },
     "execution_count": 10,
     "metadata": {},
     "output_type": "execute_result"
    }
   ],
   "source": [
    "# here I apply my filter onto my Total Savings and Job created means\n",
    "# for each NTA. With out the filter I'd get values starting with Astoria, \n",
    "# and Baisley Park, but with the filter, the first NTA is Battery Park\n",
    "df_NTA = df.groupby('NTA')[['Total Savings', 'Job created']].mean()[filt]\n",
    "df_NTA =df_NTA.rename(columns={'Total Savings':'Average Savings', 'Job created':'Average jobs created'})\n",
    "df_NTA"
   ]
  },
  {
   "cell_type": "code",
   "execution_count": 11,
   "id": "51b5bca1",
   "metadata": {},
   "outputs": [],
   "source": [
    "# 5. Save results to the previous question as a csv file\n",
    "df_NTA.to_csv('Milestone_Action_Item_day_4.csv')"
   ]
  },
  {
   "cell_type": "markdown",
   "id": "e0f6057e",
   "metadata": {},
   "source": [
    "## Day 5 Action Items"
   ]
  },
  {
   "cell_type": "code",
   "execution_count": 12,
   "id": "8211fb70",
   "metadata": {},
   "outputs": [],
   "source": [
    "path1 = '/Users/hminsky/Desktop/The Data Incubator/Day 4/Milestone_Action_Item_day_4.csv'\n",
    "df_day_4 = pd.read_csv(path1)"
   ]
  },
  {
   "cell_type": "code",
   "execution_count": 13,
   "id": "7f34d73a",
   "metadata": {},
   "outputs": [
    {
     "data": {
      "image/png": "[encoded data removed]",
      "text/plain": [
       "<Figure size 500x270 with 2 Axes>"
      ]
     },
     "metadata": {},
     "output_type": "display_data"
    }
   ],
   "source": [
    "# 2a. Scatter plots from results of day 4 (average \n",
    "# total savings and average jobs created) plotted\n",
    "# on a standard and logorithmic scale\n",
    "fig, axs = plt.subplots(1, 2, figsize=(5, 2.7), layout='constrained')\n",
    "xdata = df_day_4['Average jobs created']\n",
    "data = df_day_4['Average Savings']\n",
    "axs[0].scatter(xdata, data)\n",
    "\n",
    "axs[1].set_yscale('log')\n",
    "axs[1].scatter(xdata, data);\n",
    "axs[0].set_xlabel('Average jobs created')\n",
    "axs[1].set_xlabel('Average jobs created')\n",
    "axs[0].set_ylabel('Average savings ($)')\n",
    "axs[0].set_title('Standard Plot')\n",
    "axs[1].set_title('Logarithmic Plot');"
   ]
  },
  {
   "cell_type": "code",
   "execution_count": 14,
   "id": "a1676b70",
   "metadata": {},
   "outputs": [],
   "source": [
    "# 2b. Make a histogram of the log of the average \n",
    "# total savings\n",
    "df_day_4['log of Average Savings'] = np.log(df_day_4['Average Savings'])"
   ]
  },
  {
   "cell_type": "code",
   "execution_count": 15,
   "id": "1b59f589",
   "metadata": {},
   "outputs": [
    {
     "data": {
      "image/png": "[encoded data removed]",
      "text/plain": [
       "<Figure size 400x400 with 1 Axes>"
      ]
     },
     "metadata": {},
     "output_type": "display_data"
    }
   ],
   "source": [
    "fig, ax = plt.subplots(figsize=(4, 4), layout = 'constrained')\n",
    "n, bins, patches = ax.hist(df_day_4['log of Average Savings'],10)#, 50, density = True, facecolor = 'C0', alpha=0.75)\n",
    "\n",
    "ax.set_xlabel('Log of Average Total Savings')\n",
    "ax.set_ylabel('Instances')\n",
    "ax.set_title('Log of Average Total Savings');"
   ]
  },
  {
   "cell_type": "code",
   "execution_count": 16,
   "id": "f3d2b5a9",
   "metadata": {},
   "outputs": [
    {
     "name": "stdout",
     "output_type": "stream",
     "text": [
      "Dates\n",
      "2005-03-04     NaN\n",
      "2008-04-02     NaN\n",
      "2015-01-05     NaN\n",
      "2020-02-03     NaN\n",
      "2017-06-30     NaN\n",
      "              ... \n",
      "2008-12-09    10.0\n",
      "2017-12-05     NaN\n",
      "2018-08-03     NaN\n",
      "2016-01-26     NaN\n",
      "2019-10-03     NaN\n",
      "Name: Job created, Length: 450, dtype: float64\n",
      "Dates\n",
      "1993-02-28    15.0\n",
      "1993-03-31     0.0\n",
      "1993-04-30     0.0\n",
      "1993-05-31     0.0\n",
      "1993-06-30     0.0\n",
      "              ... \n",
      "2020-03-31     0.0\n",
      "2020-04-30     0.0\n",
      "2020-05-31     0.0\n",
      "2020-06-30     0.0\n",
      "2020-07-31     0.0\n",
      "Freq: M, Name: Job created, Length: 330, dtype: float64\n"
     ]
    }
   ],
   "source": [
    "# 2c. A log plot of the total jobs created each month\n",
    "df['Dates'] = pd.to_datetime(df['Effective Date'])#, format='%m/%d/%y')\n",
    "# type(df.loc[0,'Dates'])\n",
    "df = df.set_index('Dates')\n",
    "# df.head(20)\n",
    "df_dates_jobs = df['Job created']\n",
    "print(df_dates_jobs)\n",
    "df_dates_jobs_resamp = df_dates_jobs.resample('M').sum()\n",
    "print(df_dates_jobs_resamp)"
   ]
  },
  {
   "cell_type": "code",
   "execution_count": 18,
   "id": "2c60b7a0",
   "metadata": {},
   "outputs": [
    {
     "data": {
      "image/png": "[encoded data removed]",
      "text/plain": [
       "<Figure size 640x480 with 1 Axes>"
      ]
     },
     "metadata": {},
     "output_type": "display_data"
    }
   ],
   "source": [
    "plt.plot(df_dates_jobs_resamp)\n",
    "plt.title('Jobs created over time')\n",
    "plt.xlabel('Year')\n",
    "plt.ylabel('Jobs created per month');"
   ]
  },
  {
   "cell_type": "code",
   "execution_count": null,
   "id": "5b124c62",
   "metadata": {},
   "outputs": [],
   "source": []
  },
  {
   "cell_type": "code",
   "execution_count": null,
   "id": "1c03f633",
   "metadata": {},
   "outputs": [],
   "source": []
  }
 ],
 "metadata": {
  "kernelspec": {
   "display_name": "Python 3 (ipykernel)",
   "language": "python",
   "name": "python3"
  },
  "language_info": {
   "codemirror_mode": {
    "name": "ipython",
    "version": 3
   },
   "file_extension": ".py",
   "mimetype": "text/x-python",
   "name": "python",
   "nbconvert_exporter": "python",
   "pygments_lexer": "ipython3",
   "version": "3.9.13"
  }
 },
 "nbformat": 4,
 "nbformat_minor": 5
}
